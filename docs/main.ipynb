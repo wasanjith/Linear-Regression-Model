{
 "cells": [
  {
   "cell_type": "code",
   "execution_count": 1,
   "metadata": {},
   "outputs": [],
   "source": [
    "import pandas as pb"
   ]
  },
  {
   "cell_type": "code",
   "execution_count": 3,
   "metadata": {},
   "outputs": [],
   "source": [
    "data_path = '../data/Fitness_trackers_updated.csv'"
   ]
  },
  {
   "cell_type": "code",
   "execution_count": 5,
   "metadata": {},
   "outputs": [],
   "source": [
    "df = pb.read_csv(data_path)"
   ]
  },
  {
   "cell_type": "code",
   "execution_count": 6,
   "metadata": {},
   "outputs": [
    {
     "data": {
      "text/html": [
       "<div>\n",
       "<style scoped>\n",
       "    .dataframe tbody tr th:only-of-type {\n",
       "        vertical-align: middle;\n",
       "    }\n",
       "\n",
       "    .dataframe tbody tr th {\n",
       "        vertical-align: top;\n",
       "    }\n",
       "\n",
       "    .dataframe thead th {\n",
       "        text-align: right;\n",
       "    }\n",
       "</style>\n",
       "<table border=\"1\" class=\"dataframe\">\n",
       "  <thead>\n",
       "    <tr style=\"text-align: right;\">\n",
       "      <th></th>\n",
       "      <th>Brand Name</th>\n",
       "      <th>Device Type</th>\n",
       "      <th>Model Name</th>\n",
       "      <th>Color</th>\n",
       "      <th>Selling Price</th>\n",
       "      <th>Original Price</th>\n",
       "      <th>Display</th>\n",
       "      <th>Rating (Out of 5)</th>\n",
       "      <th>Strap Material</th>\n",
       "      <th>Average Battery Life (in days)</th>\n",
       "      <th>Reviews</th>\n",
       "    </tr>\n",
       "  </thead>\n",
       "  <tbody>\n",
       "    <tr>\n",
       "      <th>0</th>\n",
       "      <td>Xiaomi</td>\n",
       "      <td>FitnessBand</td>\n",
       "      <td>Smart Band 5</td>\n",
       "      <td>Black</td>\n",
       "      <td>2,499</td>\n",
       "      <td>2,999</td>\n",
       "      <td>AMOLED Display</td>\n",
       "      <td>4.1</td>\n",
       "      <td>Thermoplastic polyurethane</td>\n",
       "      <td>14</td>\n",
       "      <td>NaN</td>\n",
       "    </tr>\n",
       "    <tr>\n",
       "      <th>1</th>\n",
       "      <td>Xiaomi</td>\n",
       "      <td>FitnessBand</td>\n",
       "      <td>Smart Band 4</td>\n",
       "      <td>Black</td>\n",
       "      <td>2,099</td>\n",
       "      <td>2,499</td>\n",
       "      <td>AMOLED Display</td>\n",
       "      <td>4.2</td>\n",
       "      <td>Thermoplastic polyurethane</td>\n",
       "      <td>14</td>\n",
       "      <td>NaN</td>\n",
       "    </tr>\n",
       "    <tr>\n",
       "      <th>2</th>\n",
       "      <td>Xiaomi</td>\n",
       "      <td>FitnessBand</td>\n",
       "      <td>HMSH01GE</td>\n",
       "      <td>Black</td>\n",
       "      <td>1,722</td>\n",
       "      <td>2,099</td>\n",
       "      <td>LCD Display</td>\n",
       "      <td>3.5</td>\n",
       "      <td>Leather</td>\n",
       "      <td>14</td>\n",
       "      <td>NaN</td>\n",
       "    </tr>\n",
       "    <tr>\n",
       "      <th>3</th>\n",
       "      <td>Xiaomi</td>\n",
       "      <td>FitnessBand</td>\n",
       "      <td>Smart Band 5</td>\n",
       "      <td>Black</td>\n",
       "      <td>2,469</td>\n",
       "      <td>2,999</td>\n",
       "      <td>AMOLED Display</td>\n",
       "      <td>4.1</td>\n",
       "      <td>Thermoplastic polyurethane</td>\n",
       "      <td>14</td>\n",
       "      <td>NaN</td>\n",
       "    </tr>\n",
       "    <tr>\n",
       "      <th>4</th>\n",
       "      <td>Xiaomi</td>\n",
       "      <td>FitnessBand</td>\n",
       "      <td>Band 3</td>\n",
       "      <td>Black</td>\n",
       "      <td>1,799</td>\n",
       "      <td>2,199</td>\n",
       "      <td>OLED Display</td>\n",
       "      <td>4.3</td>\n",
       "      <td>Plastic</td>\n",
       "      <td>7</td>\n",
       "      <td>NaN</td>\n",
       "    </tr>\n",
       "  </tbody>\n",
       "</table>\n",
       "</div>"
      ],
      "text/plain": [
       "  Brand Name  Device Type    Model Name  Color Selling Price Original Price  \\\n",
       "0     Xiaomi  FitnessBand  Smart Band 5  Black         2,499          2,999   \n",
       "1     Xiaomi  FitnessBand  Smart Band 4  Black         2,099          2,499   \n",
       "2     Xiaomi  FitnessBand      HMSH01GE  Black         1,722          2,099   \n",
       "3     Xiaomi  FitnessBand  Smart Band 5  Black         2,469          2,999   \n",
       "4     Xiaomi  FitnessBand        Band 3  Black         1,799          2,199   \n",
       "\n",
       "          Display  Rating (Out of 5)              Strap Material  \\\n",
       "0  AMOLED Display                4.1  Thermoplastic polyurethane   \n",
       "1  AMOLED Display                4.2  Thermoplastic polyurethane   \n",
       "2     LCD Display                3.5                     Leather   \n",
       "3  AMOLED Display                4.1  Thermoplastic polyurethane   \n",
       "4    OLED Display                4.3                     Plastic   \n",
       "\n",
       "   Average Battery Life (in days) Reviews  \n",
       "0                              14     NaN  \n",
       "1                              14     NaN  \n",
       "2                              14     NaN  \n",
       "3                              14     NaN  \n",
       "4                               7     NaN  "
      ]
     },
     "execution_count": 6,
     "metadata": {},
     "output_type": "execute_result"
    }
   ],
   "source": [
    "df.head()"
   ]
  },
  {
   "cell_type": "code",
   "execution_count": 8,
   "metadata": {},
   "outputs": [
    {
     "data": {
      "text/plain": [
       "(610, 11)"
      ]
     },
     "execution_count": 8,
     "metadata": {},
     "output_type": "execute_result"
    }
   ],
   "source": [
    "df.shape\n"
   ]
  },
  {
   "cell_type": "code",
   "execution_count": null,
   "metadata": {},
   "outputs": [],
   "source": [
    " "
   ]
  }
 ],
 "metadata": {
  "kernelspec": {
   "display_name": "myenv",
   "language": "python",
   "name": "python3"
  },
  "language_info": {
   "codemirror_mode": {
    "name": "ipython",
    "version": 3
   },
   "file_extension": ".py",
   "mimetype": "text/x-python",
   "name": "python",
   "nbconvert_exporter": "python",
   "pygments_lexer": "ipython3",
   "version": "3.9.20"
  }
 },
 "nbformat": 4,
 "nbformat_minor": 2
}
